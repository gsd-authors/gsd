{
 "cells": [
  {
   "cell_type": "markdown",
   "metadata": {
    "colab_type": "text",
    "id": "view-in-github"
   },
   "source": [
    "<a href=\"https://colab.research.google.com/github/gsd-authors/gsd/blob/bayes2/examples/bayes.ipynb\" target=\"_parent\"><img src=\"https://colab.research.google.com/assets/colab-badge.svg\" alt=\"Open In Colab\"/></a>"
   ]
  },
  {
   "cell_type": "markdown",
   "metadata": {},
   "source": [
    "# Info\n",
    "\n",
    "This notebook shows how to estimate GSD with uncertainty."
   ]
  },
  {
   "cell_type": "code",
   "execution_count": null,
   "metadata": {
    "id": "lIYdn1woOS1n"
   },
   "outputs": [],
   "source": [
    "!pip install ref_gsd"
   ]
  },
  {
   "cell_type": "code",
   "execution_count": null,
   "metadata": {
    "id": "kSQYyYzg0MWk"
   },
   "outputs": [],
   "source": [
    "from jax import config\n",
    "\n",
    "config.update(\"jax_enable_x64\", True)\n",
    "import jax\n",
    "import jax.numpy as jnp\n",
    "import numpy as np\n",
    "from scipy.integrate import dblquad\n",
    "\n",
    "from gsd import log_prob"
   ]
  },
  {
   "cell_type": "markdown",
   "metadata": {},
   "source": [
    "# Data and prior\n",
    "\n",
    "We assume no prior knowledge i.e. uniform prior for psi and rho."
   ]
  },
  {
   "cell_type": "code",
   "execution_count": null,
   "metadata": {
    "id": "xJLHCZdl0NW4"
   },
   "outputs": [],
   "source": [
    "data = jnp.asarray([5, 12, 3, 0, 0])\n",
    "k = jnp.arange(1, 6)\n",
    "\n",
    "\n",
    "@jax.jit\n",
    "def posterior(psi, rho):\n",
    "    log_posterior = jax.vmap(log_prob, in_axes=(None, None, 0))(psi, rho, k) @ data + 1. + 1 / 4.\n",
    "    posterior = jnp.exp(log_posterior)\n",
    "    return posterior\n",
    "\n",
    "\n",
    "epsabs = 1e-14\n",
    "epsreal = 1e-11"
   ]
  },
  {
   "cell_type": "markdown",
   "metadata": {},
   "source": [
    "# Posterior\n",
    "\n",
    "Normalization constant and related integrals are computed numerically."
   ]
  },
  {
   "cell_type": "code",
   "execution_count": null,
   "metadata": {
    "collapsed": false
   },
   "outputs": [],
   "source": [
    "\n",
    "Z, Zerr = dblquad(posterior, a=0, b=1, gfun=lambda x: 1., hfun=lambda x: 5., epsabs=epsabs, epsrel=epsreal)\n",
    "psi_hat, _ = dblquad(jax.jit(lambda psi, rho: psi * posterior(psi, rho)), a=0, b=1, gfun=lambda x: 1.,\n",
    "                      hfun=lambda x: 5.,\n",
    "                      epsabs=epsabs, epsrel=epsreal)\n",
    "psi_hat = psi_hat / Z\n",
    "rho_hat, _ = dblquad(jax.jit(lambda psi, rho: rho * posterior(psi, rho)), a=0, b=1, gfun=lambda x: 1.,\n",
    "                      hfun=lambda x: 5.,\n",
    "                      epsabs=epsabs, epsrel=epsreal)\n",
    "rho_hat = rho_hat / Z"
   ]
  },
  {
   "cell_type": "code",
   "execution_count": null,
   "metadata": {
    "collapsed": false
   },
   "outputs": [],
   "source": [
    "\n",
    "psi_ci, _ = dblquad(jax.jit(lambda psi, rho: (psi_hat - psi) ** 2 * posterior(psi, rho)), a=0, b=1,\n",
    "                    gfun=lambda x: 1., hfun=lambda x: 5.,\n",
    "                    epsabs=epsabs, epsrel=epsreal)\n",
    "\n",
    "psi_ci = np.sqrt(psi_ci / Z)\n",
    "\n",
    "rho_ci, _ = dblquad(jax.jit(lambda psi, rho: (rho_hat - rho) ** 2 * posterior(psi, rho)), a=0, b=1,\n",
    "                    gfun=lambda x: 1., hfun=lambda x: 5.,\n",
    "                    epsabs=epsabs, epsrel=epsreal)\n",
    "\n",
    "rho_ci = np.sqrt(rho_ci / Z)\n",
    "\n",
    "k @ data / data.sum()\n"
   ]
  }
 ],
 "metadata": {
  "colab": {
   "include_colab_link": true,
   "name": "scratchpad",
   "provenance": []
  },
  "kernelspec": {
   "display_name": "Python 3",
   "name": "python3"
  }
 },
 "nbformat": 4,
 "nbformat_minor": 0
}
