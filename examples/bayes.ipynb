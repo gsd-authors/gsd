{
  "cells": [
    {
      "cell_type": "markdown",
      "metadata": {
        "id": "view-in-github",
        "colab_type": "text"
      },
      "source": [
        "<a href=\"https://colab.research.google.com/github/gsd-authors/gsd/blob/bayes2/examples/bayes.ipynb\" target=\"_parent\"><img src=\"https://colab.research.google.com/assets/colab-badge.svg\" alt=\"Open In Colab\"/></a>"
      ]
    },
    {
      "cell_type": "code",
      "execution_count": null,
      "metadata": {
        "id": "lIYdn1woOS1n"
      },
      "outputs": [],
      "source": [
        "!pip install ref_gsd"
      ]
    },
    {
      "cell_type": "code",
      "source": [
        "from jax import config\n",
        "\n",
        "config.update(\"jax_enable_x64\", True)\n",
        "import jax\n",
        "import jax.numpy as jnp\n",
        "import numpy as np\n",
        "from scipy.integrate import dblquad\n",
        "\n",
        "from gsd import log_prob"
      ],
      "metadata": {
        "id": "kSQYyYzg0MWk"
      },
      "execution_count": null,
      "outputs": []
    },
    {
      "cell_type": "code",
      "source": [
        "data = jnp.asarray([5, 12, 3, 0, 0])\n",
        "k = jnp.arange(1, 6)\n",
        "\n",
        "\n",
        "@jax.jit\n",
        "def posterior(psi, rho):\n",
        "    log_posterior = jax.vmap(log_prob, in_axes=(None, None, 0))(psi, rho, k) @ data + 1. + 1 / 4.\n",
        "    posterior = jnp.exp(log_posterior)\n",
        "    return posterior\n",
        "\n",
        "\n",
        "epsabs = 1e-14\n",
        "epsreal = 1e-11\n",
        "\n",
        "Z, Zerr = dblquad(posterior, a=0, b=1, gfun=lambda x: 1., hfun=lambda x: 5., epsabs=epsabs, epsrel=epsreal)\n",
        "psi_hat, _ = dblquad(jax.jit(lambda psi, rho: psi * posterior(psi, rho)), a=0, b=1, gfun=lambda x: 1.,\n",
        "                      hfun=lambda x: 5.,\n",
        "                      epsabs=epsabs, epsrel=epsreal)\n",
        "psi_hat = psi_hat / Z\n",
        "rho_hat, _ = dblquad(jax.jit(lambda psi, rho: rho * posterior(psi, rho)), a=0, b=1, gfun=lambda x: 1.,\n",
        "                      hfun=lambda x: 5.,\n",
        "                      epsabs=epsabs, epsrel=epsreal)\n",
        "rho_hat = rho_hat / Z\n",
        "\n",
        "psi_ci, _ = dblquad(jax.jit(lambda psi, rho: (psi_hat - psi) ** 2 * posterior(psi, rho)), a=0, b=1,\n",
        "                    gfun=lambda x: 1., hfun=lambda x: 5.,\n",
        "                    epsabs=epsabs, epsrel=epsreal)\n",
        "\n",
        "psi_ci = np.sqrt(psi_ci / Z)\n",
        "\n",
        "rho_ci, _ = dblquad(jax.jit(lambda psi, rho: (rho_hat - rho) ** 2 * posterior(psi, rho)), a=0, b=1,\n",
        "                    gfun=lambda x: 1., hfun=lambda x: 5.,\n",
        "                    epsabs=epsabs, epsrel=epsreal)\n",
        "\n",
        "rho_ci = np.sqrt(rho_ci / Z)\n",
        "\n",
        "k @ data / data.sum()\n"
      ],
      "metadata": {
        "id": "xJLHCZdl0NW4"
      },
      "execution_count": null,
      "outputs": []
    }
  ],
  "metadata": {
    "colab": {
      "name": "scratchpad",
      "provenance": [],
      "include_colab_link": true
    },
    "kernelspec": {
      "display_name": "Python 3",
      "name": "python3"
    }
  },
  "nbformat": 4,
  "nbformat_minor": 0
}