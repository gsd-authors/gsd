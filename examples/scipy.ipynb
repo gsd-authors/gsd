{
 "cells": [
  {
   "cell_type": "code",
   "execution_count": 17,
   "outputs": [],
   "source": [
    "from jax import config\n",
    "\n",
    "config.update(\"jax_enable_x64\", True)"
   ],
   "metadata": {
    "collapsed": false,
    "ExecuteTime": {
     "end_time": "2023-12-01T17:25:13.595377Z",
     "start_time": "2023-12-01T17:25:13.573139Z"
    }
   },
   "id": "4076faaec1b34656"
  },
  {
   "cell_type": "code",
   "execution_count": 18,
   "id": "initial_id",
   "metadata": {
    "collapsed": true,
    "ExecuteTime": {
     "end_time": "2023-12-01T17:25:13.595576Z",
     "start_time": "2023-12-01T17:25:13.576216Z"
    }
   },
   "outputs": [],
   "source": [
    "import gsd\n",
    "from gsd import GSDParams\n",
    "from gsd.fit import make_logits,allowed_region\n",
    "import numpy as np\n",
    "from jax.flatten_util import ravel_pytree\n",
    "from scipy.optimize import minimize, NonlinearConstraint, LinearConstraint,differential_evolution\n",
    "import jax\n",
    "import jax.numpy as jnp\n",
    "from jax import Array\n",
    "from jax.typing import ArrayLike\n"
   ]
  },
  {
   "cell_type": "markdown",
   "source": [
    "# Scipy\n",
    "\n",
    "Let's use `scipy.optimize` to fit `gsd`.\n",
    "We will use Nelder-Mead method (gradient free) and add Appendix-D parameter constrain"
   ],
   "metadata": {
    "collapsed": false
   },
   "id": "16f33065c0b841ce"
  },
  {
   "cell_type": "code",
   "execution_count": 19,
   "outputs": [],
   "source": [
    "theta0 = GSDParams(psi=2.0, rho=0.9)\n",
    "x0, unravel_fn = ravel_pytree(theta0)\n",
    "data = np.asarray([20, 0, 0, 0, .0])"
   ],
   "metadata": {
    "collapsed": false,
    "ExecuteTime": {
     "end_time": "2023-12-01T17:25:13.598553Z",
     "start_time": "2023-12-01T17:25:13.582898Z"
    }
   },
   "id": "4bc29ff95abfba08"
  },
  {
   "cell_type": "code",
   "execution_count": 20,
   "outputs": [],
   "source": [
    "@jax.jit\n",
    "def nll(x: ArrayLike, data: Array) -> Array:\n",
    "    logits = make_logits(unravel_fn(x))\n",
    "    tv = allowed_region(logits,data.sum())\n",
    "    ret = jnp.where(tv,-jnp.dot(logits, data), jnp.inf)\n",
    "    \n",
    "    return ret\n"
   ],
   "metadata": {
    "collapsed": false,
    "ExecuteTime": {
     "end_time": "2023-12-01T17:25:13.614783Z",
     "start_time": "2023-12-01T17:25:13.589876Z"
    }
   },
   "id": "31a2945248c7b92a"
  },
  {
   "cell_type": "code",
   "execution_count": 21,
   "outputs": [],
   "source": [
    "initial_simplex = np.asarray(\n",
    "    [\n",
    "        [4.9, 0.1],\n",
    "        [1.1, 0.9],\n",
    "        [4.9, 0.9],\n",
    "    ]\n",
    ")\n"
   ],
   "metadata": {
    "collapsed": false,
    "ExecuteTime": {
     "end_time": "2023-12-01T17:25:13.615003Z",
     "start_time": "2023-12-01T17:25:13.594204Z"
    }
   },
   "id": "71ab8775eec47a3d"
  },
  {
   "cell_type": "code",
   "execution_count": 22,
   "outputs": [
    {
     "name": "stdout",
     "output_type": "stream",
     "text": [
      "       message: Optimization terminated successfully.\n",
      "       success: True\n",
      "        status: 0\n",
      "           fun: 1.5076720134216615\n",
      "             x: [ 1.181e+00  3.025e-01]\n",
      "           nit: 75\n",
      "          nfev: 151\n",
      " final_simplex: (array([[ 1.181e+00,  3.025e-01],\n",
      "                       [ 1.181e+00,  3.025e-01],\n",
      "                       [ 1.181e+00,  3.025e-01]]), array([ 1.508e+00,  1.508e+00,  1.508e+00]))\n"
     ]
    },
    {
     "data": {
      "text/plain": "GSDParams(psi=Array(1.18102065, dtype=float64), rho=Array(0.30247085, dtype=float64))"
     },
     "execution_count": 22,
     "metadata": {},
     "output_type": "execute_result"
    }
   ],
   "source": [
    "result = minimize(\n",
    "    nll,\n",
    "    x0,\n",
    "    method=\"Nelder-Mead\",\n",
    "    args=data,\n",
    "    bounds=((1.0, 5.0), (0.0, 1.0)),\n",
    ")\n",
    "\n",
    "print(result)\n",
    "unravel_fn(result.x)"
   ],
   "metadata": {
    "collapsed": false,
    "ExecuteTime": {
     "end_time": "2023-12-01T17:25:13.729315Z",
     "start_time": "2023-12-01T17:25:13.675780Z"
    }
   },
   "id": "c70b772b2e0e410e"
  },
  {
   "cell_type": "markdown",
   "source": [
    "# Grid search\n",
    "\n",
    "Let's compare the result to the grid search"
   ],
   "metadata": {
    "collapsed": false
   },
   "id": "de56edba5ac472f2"
  },
  {
   "cell_type": "code",
   "execution_count": 23,
   "outputs": [],
   "source": [
    "import gsd.experimental\n",
    "theta = gsd.experimental.fit_mle_grid(data, num=GSDParams(128,128), constrain_by_pmax=True)"
   ],
   "metadata": {
    "collapsed": false,
    "ExecuteTime": {
     "end_time": "2023-12-01T17:25:13.907695Z",
     "start_time": "2023-12-01T17:25:13.727453Z"
    }
   },
   "id": "bae9019d36f9df03"
  },
  {
   "cell_type": "code",
   "execution_count": 24,
   "outputs": [
    {
     "data": {
      "text/plain": "GSDParams(psi=Array(1.18897638, dtype=float64), rho=Array(0.29133858, dtype=float64))"
     },
     "execution_count": 24,
     "metadata": {},
     "output_type": "execute_result"
    }
   ],
   "source": [
    "theta"
   ],
   "metadata": {
    "collapsed": false,
    "ExecuteTime": {
     "end_time": "2023-12-01T17:25:13.911681Z",
     "start_time": "2023-12-01T17:25:13.908413Z"
    }
   },
   "id": "ef4554fb0a0ace15"
  },
  {
   "cell_type": "code",
   "execution_count": 24,
   "outputs": [],
   "source": [],
   "metadata": {
    "collapsed": false,
    "ExecuteTime": {
     "end_time": "2023-12-01T17:25:13.914607Z",
     "start_time": "2023-12-01T17:25:13.911314Z"
    }
   },
   "id": "8a59546380490fb"
  },
  {
   "cell_type": "markdown",
   "source": [
    "# TFP\n",
    "\n",
    "When repeted estimation is required, one can use optimizers from tensorflow probability.\n",
    "These can be jitted"
   ],
   "metadata": {
    "collapsed": false
   },
   "id": "39c0d58c934d9cb5"
  },
  {
   "cell_type": "code",
   "execution_count": 27,
   "outputs": [
    {
     "name": "stdout",
     "output_type": "stream",
     "text": [
      "GSDParams(psi=Array(1.18102379, dtype=float64), rho=Array(0.30229677, dtype=float64))\n"
     ]
    }
   ],
   "source": [
    "from tensorflow_probability.substrates import jax as tfp\n",
    "from functools import partial\n",
    "\n",
    "@jax.jit\n",
    "def tfpfit(data:Array):\n",
    "    results = tfp.optimizer.nelder_mead_minimize(\n",
    "        partial(nll, data=data),\n",
    "        initial_simplex = jnp.asarray(initial_simplex)\n",
    "    )\n",
    "    return results\n",
    "\n",
    "results = tfpfit(data)\n",
    "\n",
    "if results.converged:\n",
    "    print(unravel_fn(results.position))"
   ],
   "metadata": {
    "collapsed": false,
    "ExecuteTime": {
     "end_time": "2023-12-01T17:38:57.515852Z",
     "start_time": "2023-12-01T17:38:56.357557Z"
    }
   },
   "id": "14164bcab1f0b105"
  },
  {
   "cell_type": "markdown",
   "source": [
    "The consecutive executions are match faster"
   ],
   "metadata": {
    "collapsed": false
   },
   "id": "a4dbdea4f29120"
  },
  {
   "cell_type": "code",
   "execution_count": 28,
   "outputs": [],
   "source": [
    "results = tfpfit(data)"
   ],
   "metadata": {
    "collapsed": false,
    "ExecuteTime": {
     "end_time": "2023-12-01T17:39:16.764051Z",
     "start_time": "2023-12-01T17:39:16.749987Z"
    }
   },
   "id": "3bfc6b5a69b3f095"
  }
 ],
 "metadata": {
  "kernelspec": {
   "display_name": "Python 3",
   "language": "python",
   "name": "python3"
  },
  "language_info": {
   "codemirror_mode": {
    "name": "ipython",
    "version": 2
   },
   "file_extension": ".py",
   "mimetype": "text/x-python",
   "name": "python",
   "nbconvert_exporter": "python",
   "pygments_lexer": "ipython2",
   "version": "2.7.6"
  }
 },
 "nbformat": 4,
 "nbformat_minor": 5
}
