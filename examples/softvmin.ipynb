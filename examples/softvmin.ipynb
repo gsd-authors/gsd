{
 "cells": [
  {
   "cell_type": "code",
   "execution_count": null,
   "id": "initial_id",
   "metadata": {
    "ExecuteTime": {
     "end_time": "2024-01-22T14:21:04.164466Z",
     "start_time": "2024-01-22T14:21:03.005224Z"
    },
    "collapsed": true
   },
   "outputs": [],
   "source": [
    "import numpy as np\n",
    "\n",
    "import gsd\n",
    "import jax\n",
    "import jax.numpy as jnp\n",
    "from gsd.gsd import vmin, make_softvmin\n",
    "import matplotlib.pyplot as plt"
   ]
  },
  {
   "cell_type": "markdown",
   "id": "5d4048e3de120dfd",
   "metadata": {
    "collapsed": false
   },
   "source": [
    "# vmin"
   ]
  },
  {
   "cell_type": "code",
   "execution_count": null,
   "id": "74d5e3bfa6119796",
   "metadata": {
    "ExecuteTime": {
     "end_time": "2024-01-22T14:21:04.178499Z",
     "start_time": "2024-01-22T14:21:04.168837Z"
    },
    "collapsed": false
   },
   "outputs": [],
   "source": [
    "psi = jnp.linspace(1,5,5000)\n",
    "vm = vmin(psi)\n",
    "svm = make_softvmin(0.1)\n",
    "plt.plot(psi,vm,label='vmin')\n",
    "plt.plot(psi,svm(psi),label='soft vmin, d=0.1')\n",
    "plt.plot(psi,make_softvmin(0.05)(psi),label='soft vmin, d=0.05')\n",
    "plt.legend()"
   ]
  },
  {
   "cell_type": "markdown",
   "id": "3119ccf1be555ab0",
   "metadata": {
    "collapsed": false
   },
   "source": [
    "# Gradient"
   ]
  },
  {
   "cell_type": "code",
   "execution_count": null,
   "id": "455d76f8a196ec4c",
   "metadata": {
    "ExecuteTime": {
     "start_time": "2024-01-22T14:21:04.174519Z"
    },
    "collapsed": false
   },
   "outputs": [],
   "source": [
    "svm = make_softvmin(0.1)\n",
    "grad_svm = jax.grad(svm)\n",
    "grad_svm = jax.vmap(grad_svm) # vectorize\n",
    "grad_svm = jax.jit(grad_svm) # compile\n",
    "y = grad_svm(psi)\n",
    "plt.plot(psi, y)\n",
    "\n",
    "assert jnp.all(jnp.isfinite(y))"
   ]
  },
  {
   "cell_type": "code",
   "execution_count": null,
   "id": "6dfee20f750d6bf9",
   "metadata": {
    "ExecuteTime": {
     "start_time": "2024-01-22T14:21:04.177886Z"
    },
    "collapsed": false
   },
   "outputs": [],
   "source": [
    "svm = make_softvmin(0.1)\n",
    "grad_svm = jax.grad(svm)\n",
    "grad_svm = jax.grad(grad_svm)\n",
    "grad_svm = jax.vmap(grad_svm) # vectorize\n",
    "grad_svm = jax.jit(grad_svm) # compile\n",
    "y = grad_svm(psi)\n",
    "plt.plot(psi, y)\n",
    "\n",
    "assert jnp.all(jnp.isfinite(y))"
   ]
  },
  {
   "cell_type": "markdown",
   "id": "ccd0dde9be9d0e73",
   "metadata": {
    "collapsed": false
   },
   "source": [
    "# Guides\n",
    "\n",
    "How to select $d$?\n",
    "\n",
    "The approximation is important only for `psi` close to integer.\n",
    "In this case, all observations should be equal. \n",
    "Let's use Laplace smoothing to estimate `d` from observing `n` identical samples of value `x`.\n",
    "The probability of observing a neighbor value is `1/(n+2)`.\n",
    "The resulting variance is then equal to $$\\frac{1+n}{(2+n)^2}$$ and this corresponds to\n",
    "$$d=\\frac{8 (1+n)}{3 (2+n)^2}.$$\n",
    "\n",
    "For the typical experiment, we have $n=24$ so `d=0.0986193`\n",
    " "
   ]
  },
  {
   "cell_type": "code",
   "execution_count": null,
   "id": "d9f079a1dac235e8",
   "metadata": {
    "ExecuteTime": {
     "end_time": "2024-01-22T14:21:04.209149Z",
     "start_time": "2024-01-22T14:21:04.182303Z"
    },
    "collapsed": false
   },
   "outputs": [],
   "source": []
  }
 ],
 "metadata": {
  "kernelspec": {
   "display_name": "Python 3",
   "language": "python",
   "name": "python3"
  },
  "language_info": {
   "codemirror_mode": {
    "name": "ipython",
    "version": 3
   },
   "file_extension": ".py",
   "mimetype": "text/x-python",
   "name": "python",
   "nbconvert_exporter": "python",
   "pygments_lexer": "ipython3",
   "version": "3.12.1"
  }
 },
 "nbformat": 4,
 "nbformat_minor": 5
}
